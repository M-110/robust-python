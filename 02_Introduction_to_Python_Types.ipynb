{
  "nbformat": 4,
  "nbformat_minor": 0,
  "metadata": {
    "colab": {
      "name": "02_Introduction_to_Python_Types",
      "provenance": [],
      "collapsed_sections": [],
      "authorship_tag": "ABX9TyO1nHTDW2BnY9JgDr2qSx+S",
      "include_colab_link": true
    },
    "kernelspec": {
      "name": "python3",
      "display_name": "Python 3"
    },
    "language_info": {
      "name": "python"
    }
  },
  "cells": [
    {
      "cell_type": "markdown",
      "metadata": {
        "id": "view-in-github",
        "colab_type": "text"
      },
      "source": [
        "<a href=\"https://colab.research.google.com/github/M-110/robust-python/blob/main/02_Introduction_to_Python_Types.ipynb\" target=\"_parent\"><img src=\"https://colab.research.google.com/assets/colab-badge.svg\" alt=\"Open In Colab\"/></a>"
      ]
    },
    {
      "cell_type": "code",
      "metadata": {
        "colab": {
          "base_uri": "https://localhost:8080/"
        },
        "id": "F4a0ez1BfPFR",
        "outputId": "1f86a4d4-2f47-4349-e94f-3b8db7bdd452"
      },
      "source": [
        "type(3), type(3.5), type('3.5'), type([3])"
      ],
      "execution_count": null,
      "outputs": [
        {
          "output_type": "execute_result",
          "data": {
            "text/plain": [
              "(int, float, str, list)"
            ]
          },
          "metadata": {
            "tags": []
          },
          "execution_count": 1
        }
      ]
    },
    {
      "cell_type": "code",
      "metadata": {
        "id": "S-QV-_PRffDM"
      },
      "source": [
        "from ctypes import string_at\n",
        "from sys import getsizeof\n",
        "from binascii import hexlify"
      ],
      "execution_count": null,
      "outputs": []
    },
    {
      "cell_type": "code",
      "metadata": {
        "id": "Jgh6nSOHf6Qo"
      },
      "source": [
        "a = 0b01010000_01000001_01010100"
      ],
      "execution_count": null,
      "outputs": []
    },
    {
      "cell_type": "code",
      "metadata": {
        "colab": {
          "base_uri": "https://localhost:8080/"
        },
        "id": "wVu_LhpYf_SR",
        "outputId": "5b4e3eb7-46fc-43ed-e090-57e989ae48d9"
      },
      "source": [
        "print(a)"
      ],
      "execution_count": null,
      "outputs": [
        {
          "output_type": "stream",
          "text": [
            "5259604\n"
          ],
          "name": "stdout"
        }
      ]
    },
    {
      "cell_type": "code",
      "metadata": {
        "colab": {
          "base_uri": "https://localhost:8080/"
        },
        "id": "_pLS8oWEgABY",
        "outputId": "96aabfc9-dc66-4fbb-df41-5a82af245fc5"
      },
      "source": [
        "hexlify(string_at(id(a), getsizeof(a)))"
      ],
      "execution_count": null,
      "outputs": [
        {
          "output_type": "execute_result",
          "data": {
            "text/plain": [
              "b'010000000000000080b7b9e589550000010000000000000054415000'"
            ]
          },
          "metadata": {
            "tags": []
          },
          "execution_count": 9
        }
      ]
    },
    {
      "cell_type": "code",
      "metadata": {
        "colab": {
          "base_uri": "https://localhost:8080/"
        },
        "id": "nJkamQpxgJfu",
        "outputId": "06fc5c96-bedd-43f6-bcef-323fa0d91563"
      },
      "source": [
        "string_at(id(a)-5, 10)"
      ],
      "execution_count": null,
      "outputs": [
        {
          "output_type": "execute_result",
          "data": {
            "text/plain": [
              "b\"\\x00'V\\x01\\x00\\x01\\x00\\x00\\x00\\x00\""
            ]
          },
          "metadata": {
            "tags": []
          },
          "execution_count": 10
        }
      ]
    },
    {
      "cell_type": "code",
      "metadata": {
        "id": "1Z4XdZtwgNef"
      },
      "source": [
        "text = 'PAT'"
      ],
      "execution_count": null,
      "outputs": []
    },
    {
      "cell_type": "code",
      "metadata": {
        "colab": {
          "base_uri": "https://localhost:8080/"
        },
        "id": "rkGIUYEygZX-",
        "outputId": "075a8620-f6a3-4542-a262-d5d157c2efb3"
      },
      "source": [
        "hexlify(string_at(id(text), getsizeof(text)))"
      ],
      "execution_count": null,
      "outputs": [
        {
          "output_type": "execute_result",
          "data": {
            "text/plain": [
              "b'0100000000000000e09bbae58955000003000000000000002d78cbada0983950e500000000000000000000000000000050415400'"
            ]
          },
          "metadata": {
            "tags": []
          },
          "execution_count": 12
        }
      ]
    },
    {
      "cell_type": "code",
      "metadata": {
        "colab": {
          "base_uri": "https://localhost:8080/"
        },
        "id": "pHi8VBqEgbYK",
        "outputId": "85f4c5d8-de8d-4ebc-d344-23c52b42be12"
      },
      "source": [
        "0x504154"
      ],
      "execution_count": null,
      "outputs": [
        {
          "output_type": "execute_result",
          "data": {
            "text/plain": [
              "5259604"
            ]
          },
          "metadata": {
            "tags": []
          },
          "execution_count": 13
        }
      ]
    },
    {
      "cell_type": "code",
      "metadata": {
        "id": "8L3DQCyAii5P"
      },
      "source": [
        "import datetime"
      ],
      "execution_count": null,
      "outputs": []
    },
    {
      "cell_type": "code",
      "metadata": {
        "id": "fUJwCmGVitLu"
      },
      "source": [
        "def closing_time():...\n",
        "def log_time_closed(x):..."
      ],
      "execution_count": null,
      "outputs": []
    },
    {
      "cell_type": "code",
      "metadata": {
        "id": "t-2Dx0hlgp9T"
      },
      "source": [
        "def close_kitchen_if_past_cutoff_time(point_in_time: datetime.datetime):\n",
        "    if point_in_time >= closing_time():\n",
        "        close_kitchen()\n",
        "        log_time_closed(point_in_time)"
      ],
      "execution_count": null,
      "outputs": []
    },
    {
      "cell_type": "markdown",
      "metadata": {
        "id": "lWlgv_0Zj3jy"
      },
      "source": [
        "**Python is strongly typed.** There are very few implicit conversions that happen between types. It is noticeable when you perform illegal operations:"
      ]
    },
    {
      "cell_type": "code",
      "metadata": {
        "colab": {
          "base_uri": "https://localhost:8080/",
          "height": 171
        },
        "id": "clt0l-G-iybv",
        "outputId": "2741119e-51e1-4891-a440-e9283b0f8dc4"
      },
      "source": [
        "[] + (0,)"
      ],
      "execution_count": null,
      "outputs": [
        {
          "output_type": "error",
          "ename": "TypeError",
          "evalue": "ignored",
          "traceback": [
            "\u001b[0;31m---------------------------------------------------------------------------\u001b[0m",
            "\u001b[0;31mTypeError\u001b[0m                                 Traceback (most recent call last)",
            "\u001b[0;32m<ipython-input-18-96cc1b9bea92>\u001b[0m in \u001b[0;36m<module>\u001b[0;34m()\u001b[0m\n\u001b[0;32m----> 1\u001b[0;31m \u001b[0;34m[\u001b[0m\u001b[0;34m]\u001b[0m \u001b[0;34m+\u001b[0m \u001b[0;34m(\u001b[0m\u001b[0;36m0\u001b[0m\u001b[0;34m,\u001b[0m\u001b[0;34m)\u001b[0m\u001b[0;34m\u001b[0m\u001b[0;34m\u001b[0m\u001b[0m\n\u001b[0m",
            "\u001b[0;31mTypeError\u001b[0m: can only concatenate list (not \"tuple\") to list"
          ]
        }
      ]
    },
    {
      "cell_type": "markdown",
      "metadata": {
        "id": "XS__arpkka7O"
      },
      "source": [
        "**Duck typing:**"
      ]
    },
    {
      "cell_type": "code",
      "metadata": {
        "colab": {
          "base_uri": "https://localhost:8080/"
        },
        "id": "trweqojvkZeo",
        "outputId": "8c55e1bb-d6af-4d0e-8715-43c010459ffc"
      },
      "source": [
        "from typing import Iterable\n",
        "\n",
        "def print_ducks(ducks: Iterable):\n",
        "  for duck in ducks:\n",
        "    print(duck)\n",
        "\n",
        "print_ducks([1, 2, 3])\n",
        "print_ducks({3, 4, 5})\n",
        "print_ducks(range(6,9))\n",
        "print_ducks('9')"
      ],
      "execution_count": null,
      "outputs": [
        {
          "output_type": "stream",
          "text": [
            "1\n",
            "2\n",
            "3\n",
            "3\n",
            "4\n",
            "5\n",
            "6\n",
            "7\n",
            "8\n",
            "9\n"
          ],
          "name": "stdout"
        }
      ]
    },
    {
      "cell_type": "markdown",
      "metadata": {
        "id": "PXWEjUE7lYo4"
      },
      "source": [
        "`If it walks like a duck, and quacks like a duck, and you are looking for things that walk and quack like ducks, then you can treat it as if it were a duck.`"
      ]
    }
  ]
}