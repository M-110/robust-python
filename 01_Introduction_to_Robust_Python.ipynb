{
  "nbformat": 4,
  "nbformat_minor": 0,
  "metadata": {
    "colab": {
      "name": "01_Introduction_to_Robust_Python.ipynb",
      "provenance": [],
      "collapsed_sections": [],
      "authorship_tag": "ABX9TyNrFcR75yAKne5vSvxzoLNX",
      "include_colab_link": true
    },
    "kernelspec": {
      "name": "python3",
      "display_name": "Python 3"
    },
    "language_info": {
      "name": "python"
    }
  },
  "cells": [
    {
      "cell_type": "markdown",
      "metadata": {
        "id": "view-in-github",
        "colab_type": "text"
      },
      "source": [
        "<a href=\"https://colab.research.google.com/github/M-110/robust-python/blob/main/01_Introduction_to_Robust_Python.ipynb\" target=\"_parent\"><img src=\"https://colab.research.google.com/assets/colab-badge.svg\" alt=\"Open In Colab\"/></a>"
      ]
    },
    {
      "cell_type": "markdown",
      "metadata": {
        "id": "EwDHaocVCI8Z"
      },
      "source": [
        "Legacy Example"
      ]
    },
    {
      "cell_type": "code",
      "metadata": {
        "id": "vQ-nzv47CIgQ"
      },
      "source": [
        "# Take a meal recipe and change the number of servings\n",
        "# by adjusting each ingredient\n",
        "# A recipe's first element is the number of servings, and the remainder\n",
        "# of elements is (name, amount, unit), such as (\"flour\", 1.5, \"cup\")\n",
        "def adjust_recipe(recipe, servings):\n",
        "    new_recipe = [servings]\n",
        "    old_servings = recipe[0]\n",
        "    factor = servings / old_servings\n",
        "    recipe.pop(0)\n",
        "    while recipe:\n",
        "        ingredient, amount, unit = recipe.pop(0)\n",
        "        # please only use numbers that will be easily measurable\n",
        "        new_recipe.append((ingredient, amount * factor, unit))\n",
        "    return new_recipe"
      ],
      "execution_count": null,
      "outputs": []
    },
    {
      "cell_type": "code",
      "metadata": {
        "id": "EJPl27rmE1jf"
      },
      "source": [
        "recipe = [6, ['flour',1,'cup'], ['sugar', 3, 'cup']]\n",
        "servings = 3\n",
        "\n"
      ],
      "execution_count": null,
      "outputs": []
    },
    {
      "cell_type": "code",
      "metadata": {
        "colab": {
          "base_uri": "https://localhost:8080/"
        },
        "id": "qS_ObOhUGlmU",
        "outputId": "a32e586f-3546-4b11-9230-990df0d934b6"
      },
      "source": [
        "adjust_recipe(recipe, servings)"
      ],
      "execution_count": null,
      "outputs": [
        {
          "output_type": "execute_result",
          "data": {
            "text/plain": [
              "[3, ('flour', 0.5, 'cup'), ('sugar', 1.5, 'cup')]"
            ]
          },
          "metadata": {
            "tags": []
          },
          "execution_count": 24
        }
      ]
    },
    {
      "cell_type": "code",
      "metadata": {
        "id": "8c7zUdMeEn4R"
      },
      "source": [
        "# Refactoring to ->\n",
        "def adjust_recipe(recipe, servings):\n",
        "  new_recipe = [servings]\n",
        "  factor = servings / recipe.pop(0)\n",
        "  for ingredient, amount, unit in recipe:\n",
        "    new_recipe.append((ingredient, amount * factor, unit))  \n",
        "  return new_recipe"
      ],
      "execution_count": null,
      "outputs": []
    },
    {
      "cell_type": "code",
      "metadata": {
        "colab": {
          "base_uri": "https://localhost:8080/"
        },
        "id": "F-BOoMtHCFp6",
        "outputId": "a30bbe39-d600-437b-fe4d-748cabc1ea21"
      },
      "source": [
        "adjust_recipe(recipe, servings)"
      ],
      "execution_count": null,
      "outputs": [
        {
          "output_type": "execute_result",
          "data": {
            "text/plain": [
              "[3, ('flour', 0.5, 'cup'), ('sugar', 1.5, 'cup')]"
            ]
          },
          "metadata": {
            "tags": []
          },
          "execution_count": 27
        }
      ]
    },
    {
      "cell_type": "code",
      "metadata": {
        "id": "jdhRTIIKGfKr"
      },
      "source": [
        "# This breaks the code\n",
        "\n",
        "def adjust_recipe(recipe, servings):\n",
        "    old_servings = recipe.pop(0)\n",
        "    factor = servings / old_servings\n",
        "    new_recipe = {ingredient: (amount*factor, unit)\n",
        "                  for ingredient, amount, unit in recipe}\n",
        "    new_recipe[\"servings\"] = servings\n",
        "    return new_recipe"
      ],
      "execution_count": null,
      "outputs": []
    },
    {
      "cell_type": "code",
      "metadata": {
        "colab": {
          "base_uri": "https://localhost:8080/"
        },
        "id": "zTBdGVk3HBGh",
        "outputId": "b1e78b41-97a3-4c1b-ba8a-89e400779d52"
      },
      "source": [
        "adjust_recipe(recipe, servings)"
      ],
      "execution_count": null,
      "outputs": [
        {
          "output_type": "execute_result",
          "data": {
            "text/plain": [
              "{'flour': (0.5, 'cup'), 'servings': 3, 'sugar': (1.5, 'cup')}"
            ]
          },
          "metadata": {
            "tags": []
          },
          "execution_count": 30
        }
      ]
    },
    {
      "cell_type": "markdown",
      "metadata": {
        "id": "AbIu03o0Jt8h"
      },
      "source": [
        "#Examples of Intent in Python"
      ]
    },
    {
      "cell_type": "code",
      "metadata": {
        "id": "Kv1y1IEOKfkD"
      },
      "source": [
        "from typing import List\n",
        "\n",
        "class Cookbook: ...\n",
        "\n",
        "\n",
        "def create_author_count_mapping(cookbooks: List[Cookbook]):\n",
        "    counter = {}\n",
        "    for cookbook in cookbooks:\n",
        "        if cookbook.author not in counter:\n",
        "            counter[cookbook.author] = 0\n",
        "        counter[cookbook.author] += 1\n",
        "    return counter"
      ],
      "execution_count": null,
      "outputs": []
    },
    {
      "cell_type": "markdown",
      "metadata": {
        "id": "5FAtVRkiJ-k7"
      },
      "source": [
        "Choosing a collection tells readers about your specific intentions. Here’s a list of common collection types, and the intentions they convey:\n",
        "\n",
        "* List\n",
        " * This is a collection to be iterated over. It is mutable: able to be changed at any time. Very rarely do you expect to be retrieving specific elements from the middle of the list (using a static list index). There may be duplicate elements. The cookbooks on a shelf might be stored in a list.\n",
        "\n",
        "* String\n",
        " * An immutable collection of characters. The name of a cookbook would be a string.\n",
        "\n",
        "* Generators\n",
        " * A collection to be iterated over, and never indexed into. Each element access is performed lazily, so it may take time and/or resources through each loop iteration. They are great for computationally expensive or infinite collections. An online database of recipes might be returned as a generator; you don’t want to fetch all the recipes in the world when the user is only going to look at the first ten results of a search.\n",
        "\n",
        "* Tuple\n",
        " * Tuples are immutable collections. You do not expect it to change, so it is more likely to extract specific elements from the middle of the tuple (either through indices or unpacking). It is very rarely iterated over. The information about a specific cookbook might be represented as a tuple, such as (cookbook_name, author, pagecount)\n",
        "\n",
        "* Set\n",
        " * An iterable collection that contains no duplicates. You cannot rely on ordering of elements. The ingredients in a cookbook might be stored as a set.\n",
        "\n",
        "* Dictionary\n",
        " * A mapping from keys to values. Keys are unique across the dictionary. Dictionaries are typically iterated over, or indexed into using dynamic keys. A cookbook’s index is a great example of a key to value mapping (from topic to page number.)"
      ]
    },
    {
      "cell_type": "code",
      "metadata": {
        "id": "TaRWYXtfLTzP"
      },
      "source": [
        "from collections import defaultdict\n",
        "\n",
        "\n",
        "def create_author_count_mapping(cookbooks: List[Cookbook]):\n",
        "    counter = defaultdict(int)\n",
        "    for cookbook in cookbooks:\n",
        "        counter[cookbook.author] += 1\n",
        "    return counter"
      ],
      "execution_count": null,
      "outputs": []
    },
    {
      "cell_type": "code",
      "metadata": {
        "id": "By4qfE_eLZ5E"
      },
      "source": [
        "from collections import Counter\n",
        "\n",
        "\n",
        "def create_author_count_mapping(cookbooks: List[Cookbook]):\n",
        "    return Counter(book.author for book in cookbooks)"
      ],
      "execution_count": null,
      "outputs": []
    },
    {
      "cell_type": "markdown",
      "metadata": {
        "id": "qX-zrjW8LouW"
      },
      "source": [
        "Iteration"
      ]
    },
    {
      "cell_type": "code",
      "metadata": {
        "colab": {
          "base_uri": "https://localhost:8080/"
        },
        "id": "ZmpupRN_LeBY",
        "outputId": "a441bb27-c8f4-4e55-c4ec-1ce38c573df0"
      },
      "source": [
        "text = \"This is some generic text\"\n",
        "index = 0\n",
        "while index < len(text):\n",
        "    print(text[index])\n",
        "    index += 1"
      ],
      "execution_count": null,
      "outputs": [
        {
          "output_type": "stream",
          "text": [
            "T\n",
            "h\n",
            "i\n",
            "s\n",
            " \n",
            "i\n",
            "s\n",
            " \n",
            "s\n",
            "o\n",
            "m\n",
            "e\n",
            " \n",
            "g\n",
            "e\n",
            "n\n",
            "e\n",
            "r\n",
            "i\n",
            "c\n",
            " \n",
            "t\n",
            "e\n",
            "x\n",
            "t\n"
          ],
          "name": "stdout"
        }
      ]
    },
    {
      "cell_type": "code",
      "metadata": {
        "colab": {
          "base_uri": "https://localhost:8080/"
        },
        "id": "jM_2PJF0LvVs",
        "outputId": "3db98a25-1937-4e6c-cf33-5080df9d438c"
      },
      "source": [
        "for char in text:\n",
        "  print(char)"
      ],
      "execution_count": null,
      "outputs": [
        {
          "output_type": "stream",
          "text": [
            "T\n",
            "h\n",
            "i\n",
            "s\n",
            " \n",
            "i\n",
            "s\n",
            " \n",
            "s\n",
            "o\n",
            "m\n",
            "e\n",
            " \n",
            "g\n",
            "e\n",
            "n\n",
            "e\n",
            "r\n",
            "i\n",
            "c\n",
            " \n",
            "t\n",
            "e\n",
            "x\n",
            "t\n"
          ],
          "name": "stdout"
        }
      ]
    },
    {
      "cell_type": "markdown",
      "metadata": {
        "id": "fmt6N0clMIiR"
      },
      "source": [
        "The Law Of Least Surprise, also known as the Law of Least Astonishment states that a program should always respond to the user in the way that astonishes them the least6. Surprising behavior leads to confusion. Confusion leads to misplaced assumptions. Misplaced assumptions lead to bugs. And that is how you get unreliable software."
      ]
    }
  ]
}